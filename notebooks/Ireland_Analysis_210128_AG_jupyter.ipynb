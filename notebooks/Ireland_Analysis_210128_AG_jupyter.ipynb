{
 "cells": [
  {
   "cell_type": "markdown",
   "metadata": {
    "kernel": "SoS"
   },
   "source": [
    "# Preprocessing from package"
   ]
  },
  {
   "cell_type": "markdown",
   "metadata": {},
   "source": [
    "## Imports packages and sample .txt"
   ]
  },
  {
   "cell_type": "markdown",
   "metadata": {},
   "source": [
    "Checking virtualenv with `pyenv`"
   ]
  },
  {
   "cell_type": "code",
   "execution_count": 1,
   "metadata": {},
   "outputs": [],
   "source": [
    "#!pyenv virtualenvs"
   ]
  },
  {
   "cell_type": "markdown",
   "metadata": {},
   "source": [
    "Importing necessary packages"
   ]
  },
  {
   "cell_type": "code",
   "execution_count": 56,
   "metadata": {
    "collapsed": true
   },
   "outputs": [
    {
     "name": "stdout",
     "output_type": "stream",
     "text": [
      "Collecting nltk\n",
      "  Using cached nltk-3.5.zip (1.4 MB)\n",
      "Requirement already satisfied: click in /Users/alexisgourdol/.pyenv/versions/3.7.7/envs/IIPE/lib/python3.7/site-packages (from nltk) (7.1.2)\n",
      "Requirement already satisfied: joblib in /Users/alexisgourdol/.pyenv/versions/3.7.7/envs/IIPE/lib/python3.7/site-packages (from nltk) (1.0.0)\n",
      "Collecting regex\n",
      "  Downloading regex-2020.11.13-cp37-cp37m-macosx_10_9_x86_64.whl (284 kB)\n",
      "\u001b[K     |████████████████████████████████| 284 kB 6.2 MB/s eta 0:00:01\n",
      "\u001b[?25hRequirement already satisfied: tqdm in /Users/alexisgourdol/.pyenv/versions/3.7.7/envs/IIPE/lib/python3.7/site-packages (from nltk) (4.56.0)\n",
      "Using legacy 'setup.py install' for nltk, since package 'wheel' is not installed.\n",
      "Installing collected packages: regex, nltk\n",
      "    Running setup.py install for nltk ... \u001b[?25ldone\n",
      "\u001b[?25hSuccessfully installed nltk-3.5 regex-2020.11.13\n"
     ]
    }
   ],
   "source": [
    "#!pip install nltk"
   ]
  },
  {
   "cell_type": "code",
   "execution_count": 57,
   "metadata": {
    "kernel": "Python 3"
   },
   "outputs": [],
   "source": [
    "import os\n",
    "import pandas as pd\n",
    "import matplotlib.pyplot as plt\n",
    "import nltk, re\n",
    "from nltk.corpus import stopwords\n",
    "from nltk.tokenize import sent_tokenize, word_tokenize\n",
    "from nltk.stem import WordNetLemmatizer\n",
    "from collections import Counter"
   ]
  },
  {
   "cell_type": "markdown",
   "metadata": {
    "kernel": "SoS"
   },
   "source": [
    "Select the data_samples to read .txt files"
   ]
  },
  {
   "cell_type": "code",
   "execution_count": 3,
   "metadata": {},
   "outputs": [
    {
     "name": "stdout",
     "output_type": "stream",
     "text": [
      "/Users/alexisgourdol/code/alexisgourdol/IIPE-data/notebooks\n"
     ]
    },
    {
     "data": {
      "text/plain": [
       "'/Users/alexisgourdol/code/alexisgourdol/IIPE-data/IIPE/data_sample/plain_text_sample'"
      ]
     },
     "execution_count": 3,
     "metadata": {},
     "output_type": "execute_result"
    }
   ],
   "source": [
    "#run only once, multiple runs will give an error =>restart kernel\n",
    "print(os.getcwd())\n",
    "os.chdir(os.path.join('..', 'IIPE', 'data_sample', 'plain_text_sample'))\n",
    "os.getcwd()"
   ]
  },
  {
   "cell_type": "code",
   "execution_count": 18,
   "metadata": {},
   "outputs": [
    {
     "data": {
      "text/plain": [
       "['Reports_Plain text_03220F_15_11_2019.txt',\n",
       " 'Reports_Plain text_01300Q_08_10_2020.txt',\n",
       " 'Reports_Plain text_03917V_23_09_2020.txt',\n",
       " 'Reports_Plain text_05933G_08_10_2020.txt',\n",
       " 'Reports_Plain text_07518E_15_12_2020.txt']"
      ]
     },
     "execution_count": 18,
     "metadata": {},
     "output_type": "execute_result"
    }
   ],
   "source": [
    "file_names = os.listdir()\n",
    "file_names"
   ]
  },
  {
   "cell_type": "markdown",
   "metadata": {},
   "source": [
    "## Clean file names"
   ]
  },
  {
   "cell_type": "markdown",
   "metadata": {},
   "source": [
    "Clean file names, return ref and date YYYY-MM-DD format"
   ]
  },
  {
   "cell_type": "code",
   "execution_count": 6,
   "metadata": {},
   "outputs": [],
   "source": [
    "def clean_file_names(lst):\n",
    "    \"\"\"returns a list of tuples<reference, date>\"\"\"\n",
    "    cleaned = [name.replace('Reports_Plain text_','').replace('.txt','') for name in os.listdir()]\n",
    "    splitted = [name.split('_') for name in cleaned]\n",
    "    references = [lst[0] for lst in splitted]\n",
    "    dates = ['-'.join(name[1:][::-1]) for name in splitted]\n",
    "    return [(r,d) for r, d in zip(references, dates)]\n"
   ]
  },
  {
   "cell_type": "code",
   "execution_count": 7,
   "metadata": {
    "scrolled": true
   },
   "outputs": [
    {
     "data": {
      "text/plain": [
       "[('03220F', '2019-11-15'),\n",
       " ('01300Q', '2020-10-08'),\n",
       " ('03917V', '2020-09-23'),\n",
       " ('05933G', '2020-10-08'),\n",
       " ('07518E', '2020-12-15')]"
      ]
     },
     "execution_count": 7,
     "metadata": {},
     "output_type": "execute_result"
    }
   ],
   "source": [
    "clean_file_names(os.listdir())"
   ]
  },
  {
   "cell_type": "markdown",
   "metadata": {
    "kernel": "Python 3"
   },
   "source": [
    "## Cleaning unusefull content"
   ]
  },
  {
   "cell_type": "markdown",
   "metadata": {},
   "source": [
    "Read `.txt`files into a pandas.Dataframe"
   ]
  },
  {
   "cell_type": "code",
   "execution_count": 66,
   "metadata": {},
   "outputs": [],
   "source": [
    "def make_contents_df(lst):\n",
    "    \"\"\"Returns a dataframe with date, reference, text from a list of file_names\"\"\"\n",
    "    #init a list of dictionnaries\n",
    "    ld_contents = []\n",
    "    \n",
    "    for file in file_names:\n",
    "        # keeping the reference and the date\n",
    "        split = file.replace('Reports_Plain text_','').replace('.txt','').split('_')\n",
    "        reference = split[0]\n",
    "        date= '-'.join(split[1:][::-1])\n",
    "\n",
    "        #creating the dictionnary\n",
    "        d = {'date':date,\n",
    "             'reference':reference,\n",
    "             'text': '' }\n",
    "\n",
    "        #adding text content to the dictionary\n",
    "        with open(file) as f:\n",
    "            text = f.read()\n",
    "            d['text']=text\n",
    "        ld_contents.append(d)\n",
    "    #create dataframe and set date to a datetime datatype\n",
    "\n",
    "    df_contents = pd.DataFrame(ld_contents)\n",
    "    df_contents['date'] = pd.to_datetime(df_contents['date'])\n",
    "    return df_contents"
   ]
  },
  {
   "cell_type": "code",
   "execution_count": 68,
   "metadata": {},
   "outputs": [
    {
     "data": {
      "text/html": [
       "<div>\n",
       "<style scoped>\n",
       "    .dataframe tbody tr th:only-of-type {\n",
       "        vertical-align: middle;\n",
       "    }\n",
       "\n",
       "    .dataframe tbody tr th {\n",
       "        vertical-align: top;\n",
       "    }\n",
       "\n",
       "    .dataframe thead th {\n",
       "        text-align: right;\n",
       "    }\n",
       "</style>\n",
       "<table border=\"1\" class=\"dataframe\">\n",
       "  <thead>\n",
       "    <tr style=\"text-align: right;\">\n",
       "      <th></th>\n",
       "      <th>date</th>\n",
       "      <th>reference</th>\n",
       "      <th>text</th>\n",
       "    </tr>\n",
       "  </thead>\n",
       "  <tbody>\n",
       "    <tr>\n",
       "      <th>0</th>\n",
       "      <td>2019-11-15</td>\n",
       "      <td>03220F</td>\n",
       "      <td>Whole-School Evaluation – Management, Leadersh...</td>\n",
       "    </tr>\n",
       "    <tr>\n",
       "      <th>1</th>\n",
       "      <td>2020-10-08</td>\n",
       "      <td>01300Q</td>\n",
       "      <td>Whole-School Evaluation – Management, Leadersh...</td>\n",
       "    </tr>\n",
       "    <tr>\n",
       "      <th>2</th>\n",
       "      <td>2020-09-23</td>\n",
       "      <td>03917V</td>\n",
       "      <td>Whole-School Evaluation – Management, Leadersh...</td>\n",
       "    </tr>\n",
       "    <tr>\n",
       "      <th>3</th>\n",
       "      <td>2020-10-08</td>\n",
       "      <td>05933G</td>\n",
       "      <td>Whole-School Evaluation – Management, Leadersh...</td>\n",
       "    </tr>\n",
       "    <tr>\n",
       "      <th>4</th>\n",
       "      <td>2020-12-15</td>\n",
       "      <td>07518E</td>\n",
       "      <td>Whole-School Evaluation – Management, Leadersh...</td>\n",
       "    </tr>\n",
       "  </tbody>\n",
       "</table>\n",
       "</div>"
      ],
      "text/plain": [
       "        date reference                                               text\n",
       "0 2019-11-15    03220F  Whole-School Evaluation – Management, Leadersh...\n",
       "1 2020-10-08    01300Q  Whole-School Evaluation – Management, Leadersh...\n",
       "2 2020-09-23    03917V  Whole-School Evaluation – Management, Leadersh...\n",
       "3 2020-10-08    05933G  Whole-School Evaluation – Management, Leadersh...\n",
       "4 2020-12-15    07518E  Whole-School Evaluation – Management, Leadersh..."
      ]
     },
     "execution_count": 68,
     "metadata": {},
     "output_type": "execute_result"
    }
   ],
   "source": [
    "df_FilesProperlyConverted = make_contents_df(file_names)\n",
    "df_FilesProperlyConverted"
   ]
  },
  {
   "cell_type": "markdown",
   "metadata": {
    "kernel": "Python 3"
   },
   "source": [
    "### Most used words\n"
   ]
  },
  {
   "cell_type": "code",
   "execution_count": 87,
   "metadata": {
    "kernel": "Python 3"
   },
   "outputs": [
    {
     "data": {
      "image/png": "[encoded data removed]",
      "text/plain": [
       "<Figure size 432x288 with 1 Axes>"
      ]
     },
     "metadata": {
      "needs_background": "light"
     },
     "output_type": "display_data"
    }
   ],
   "source": [
    "stopwords = set(nltk.corpus.stopwords.words('english'))\n",
    "\n",
    "TotalText = []\n",
    "for index, row in df_FilesProperlyConverted.iterrows():\n",
    "    text = row['text']\n",
    "    TotalText.append(text)\n",
    "newStopWords = ['school','learning','student','pupil','teacher','management','teaching','support', 'lesson', 'board']\n",
    "newStopWords_plur = ['schools','learnings','students','pupils','teachers','managements','teachings','supports', 'lessons', 'boards']\n",
    "newStopWords += newStopWords_plur\n",
    "stopwords = stopwords.union(newStopWords)\n",
    "TotalText = \" \".join(TotalText)\n",
    "tokens = [w for w in word_tokenize(TotalText.lower()) if w.isalpha()]          # isalpha() checks if each word is alphabetical, lower() transforms everything to lowercase\n",
    "no_stop = [t.strip() for t in tokens if t.strip() not in stopwords]      # stopwords already comes with a built-in list of words to remove\n",
    "wordnet_lemmatizer = WordNetLemmatizer()\n",
    "lemmatized = [wordnet_lemmatizer.lemmatize(t) for t in no_stop]\n",
    "bow = Counter(lemmatized)\n",
    "MostCommon = dict(bow.most_common(10))\n",
    "\n",
    "plt.bar(*zip(*MostCommon.items()))\n",
    "plt.title('Whole sample')\n",
    "plt.xlabel('Most common words')\n",
    "plt.ylabel('Number of times the word appears')\n",
    "plt.xticks(rotation='vertical')\n",
    "plt.savefig(\"Results\\\\Word count\\\\Whole sample.png\")\n",
    "plt.show()"
   ]
  },
  {
   "cell_type": "markdown",
   "metadata": {
    "kernel": "Python 3"
   },
   "source": [
    "## Topic modelling"
   ]
  },
  {
   "cell_type": "code",
   "execution_count": null,
   "metadata": {},
   "outputs": [],
   "source": []
  }
 ],
 "metadata": {
  "kernelspec": {
   "display_name": "Python 3",
   "language": "python",
   "name": "python3"
  },
  "language_info": {
   "codemirror_mode": {
    "name": "ipython",
    "version": 3
   },
   "file_extension": ".py",
   "mimetype": "text/x-python",
   "name": "python",
   "nbconvert_exporter": "python",
   "pygments_lexer": "ipython3",
   "version": "3.7.7"
  },
  "sos": {
   "kernels": [
    [
     "Python 3",
     "python3",
     "python3",
     "",
     ""
    ],
    [
     "R",
     "ir",
     "R",
     "#DCDCDA",
     ""
    ]
   ],
   "panel": {
    "displayed": true,
    "height": 0
   },
   "version": "0.21.20"
  },
  "toc": {
   "base_numbering": 1,
   "nav_menu": {},
   "number_sections": true,
   "sideBar": true,
   "skip_h1_title": false,
   "title_cell": "Table of Contents",
   "title_sidebar": "Contents",
   "toc_cell": false,
   "toc_position": {},
   "toc_section_display": true,
   "toc_window_display": false
  },
  "varInspector": {
   "cols": {
    "lenName": 16,
    "lenType": 16,
    "lenVar": 40
   },
   "kernels_config": {
    "python": {
     "delete_cmd_postfix": "",
     "delete_cmd_prefix": "del ",
     "library": "var_list.py",
     "varRefreshCmd": "print(var_dic_list())"
    },
    "r": {
     "delete_cmd_postfix": ") ",
     "delete_cmd_prefix": "rm(",
     "library": "var_list.r",
     "varRefreshCmd": "cat(var_dic_list()) "
    }
   },
   "types_to_exclude": [
    "module",
    "function",
    "builtin_function_or_method",
    "instance",
    "_Feature"
   ],
   "window_display": false
  }
 },
 "nbformat": 4,
 "nbformat_minor": 4
}
