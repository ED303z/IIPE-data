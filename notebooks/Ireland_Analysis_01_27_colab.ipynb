{
  "nbformat": 4,
  "nbformat_minor": 0,
  "metadata": {
    "kernelspec": {
      "display_name": "Python 3",
      "language": "python",
      "name": "python3"
    },
    "language_info": {
      "codemirror_mode": {
        "name": "ipython",
        "version": 3
      },
      "file_extension": ".py",
      "mimetype": "text/x-python",
      "name": "python",
      "nbconvert_exporter": "python",
      "pygments_lexer": "ipython3",
      "version": "3.7.7"
    },
    "sos": {
      "kernels": [
        [
          "Python 3",
          "python3",
          "python3",
          "",
          ""
        ],
        [
          "R",
          "ir",
          "R",
          "#DCDCDA",
          ""
        ]
      ],
      "panel": {
        "displayed": true,
        "height": 0
      },
      "version": "0.21.20"
    },
    "toc": {
      "base_numbering": 1,
      "nav_menu": {},
      "number_sections": true,
      "sideBar": true,
      "skip_h1_title": false,
      "title_cell": "Table of Contents",
      "title_sidebar": "Contents",
      "toc_cell": false,
      "toc_position": {},
      "toc_section_display": true,
      "toc_window_display": false
    },
    "varInspector": {
      "cols": {
        "lenName": 16,
        "lenType": 16,
        "lenVar": 40
      },
      "kernels_config": {
        "python": {
          "delete_cmd_postfix": "",
          "delete_cmd_prefix": "del ",
          "library": "var_list.py",
          "varRefreshCmd": "print(var_dic_list())"
        },
        "r": {
          "delete_cmd_postfix": ") ",
          "delete_cmd_prefix": "rm(",
          "library": "var_list.r",
          "varRefreshCmd": "cat(var_dic_list()) "
        }
      },
      "types_to_exclude": [
        "module",
        "function",
        "builtin_function_or_method",
        "instance",
        "_Feature"
      ],
      "window_display": false
    },
    "colab": {
      "name": "Ireland_Analysis_01_27_colab.ipynb",
      "provenance": []
    }
  },
  "cells": [
    {
      "cell_type": "markdown",
      "metadata": {
        "kernel": "SoS",
        "id": "awulmbZ-y-lg"
      },
      "source": [
        "# School inspection reports' analysis\n",
        "\n",
        "This code, which uses SoS as the background, is written in Python (for the data extraction and manipulation) and R (for the Topic analysis). The respective sections can be extracted and used separetely, or jointly by following the installation guidelines presented in the link below.\n",
        "\n",
        "https://vatlab.github.io/sos-docs/running.html#Local-installation\n",
        "\n",
        "The user should run the following lines from the Command Prompt\n",
        "\n",
        "- pip install sos-notebook\n",
        "- pip install sos-papermill\n",
        "- pip install sos-r\n",
        "- python -m sos_notebook.install\n",
        "- jupyter kernelspec list\n",
        "\n",
        "and choose SoS as the kernel for a new notebook. Please refer to Notebook Interface of the SoS documentation for details (https://vatlab.github.io/sos-docs/doc/documentation/Notebook_Interface.html)\n",
        "\n",
        "Data from Ireland taken from https://data.gov.ie/dataset/primary-schools and https://www.education.ie/en/Publications/Inspection-Reports-Publications/Whole-School-Evaluation-Reports-List\n"
      ]
    },
    {
      "cell_type": "markdown",
      "metadata": {
        "id": "buB0VP-9zgRF"
      },
      "source": [
        "# Adding the data to Google Drive.\n",
        "You can first download the data. Then you have to add them to your Google Drive in a folder and run the following code in the notebook.:\n",
        "\n",
        "from google.colab import drive\n",
        "drive.mount('/content/drive/')\n",
        "The previous code will ask you to go to a given webpage where you copy the link and past it in the Colab form that will appear. Do so to load the data on Google Colab.\n",
        "\n",
        "Share the same data folder within a team, and be sure that everyone has the same at any time, even though someone changes it. The drawback is that Google Collab has now access to your Google Folder, which you might not be in favor of, depending on your sensibility."
      ]
    },
    {
      "cell_type": "code",
      "metadata": {
        "id": "GOnJEjxe8vQi"
      },
      "source": [
        "!pip install sos-notebook\n",
        "!pip install sos-papermill\n",
        "!pip install sos-r\n",
        "!python -m sos_notebook.install\n",
        "!jupyter kernelspec list"
      ],
      "execution_count": null,
      "outputs": []
    },
    {
      "cell_type": "code",
      "metadata": {
        "colab": {
          "base_uri": "https://localhost:8080/"
        },
        "id": "eongrpvwzuDa",
        "outputId": "c5973560-ca2e-40bb-906f-3e544924e01c"
      },
      "source": [
        "from google.colab import drive\n",
        "drive.mount('/content/drive')"
      ],
      "execution_count": 2,
      "outputs": [
        {
          "output_type": "stream",
          "text": [
            "Drive already mounted at /content/drive; to attempt to forcibly remount, call drive.mount(\"/content/drive\", force_remount=True).\n"
          ],
          "name": "stdout"
        }
      ]
    },
    {
      "cell_type": "code",
      "metadata": {
        "colab": {
          "base_uri": "https://localhost:8080/"
        },
        "id": "HUFaXM-wz3p-",
        "outputId": "36955951-298f-4b28-c754-539cbef1eceb"
      },
      "source": [
        "!pwd"
      ],
      "execution_count": 3,
      "outputs": [
        {
          "output_type": "stream",
          "text": [
            "/content\n"
          ],
          "name": "stdout"
        }
      ]
    },
    {
      "cell_type": "code",
      "metadata": {
        "colab": {
          "base_uri": "https://localhost:8080/"
        },
        "id": "UvlYXBPE0QPG",
        "outputId": "36ae5910-49ec-4362-a443-759179f1434e"
      },
      "source": [
        "!echo /drive/MyDrive/IIPE/data/"
      ],
      "execution_count": 8,
      "outputs": [
        {
          "output_type": "stream",
          "text": [
            "/drive/MyDrive/IIPE/data/\n"
          ],
          "name": "stdout"
        }
      ]
    },
    {
      "cell_type": "code",
      "metadata": {
        "kernel": "Python 3",
        "scrolled": true,
        "id": "oNuo_LSyy-lm"
      },
      "source": [
        "!pip install rpy2\n",
        "!pip install wget\n",
        "!pip install pdfminer.six\n",
        "!pip install geopandas\n",
        "!pip install geopy\n",
        "!pip install bs4\n",
        "!pip install pandas"
      ],
      "execution_count": null,
      "outputs": []
    },
    {
      "cell_type": "code",
      "metadata": {
        "kernel": "Python 3",
        "id": "Qa73UJ03y-ln"
      },
      "source": [
        "# We import the necessary packages\n",
        "import sys, os, csv, requests, re, bs4, datetime, time, threading, wget, pdfminer, geopandas, geopy\n",
        "import pandas as pd\n",
        "import matplotlib.pyplot as plt\n",
        "from pdfminer.high_level import extract_text\n",
        "from geopy.geocoders import Nominatim\n",
        "import numpy as np"
      ],
      "execution_count": 12,
      "outputs": []
    },
    {
      "cell_type": "markdown",
      "metadata": {
        "kernel": "SoS",
        "id": "gFQXe2y-y-ln"
      },
      "source": [
        "Select the appropriate working directory"
      ]
    },
    {
      "cell_type": "code",
      "metadata": {
        "id": "rcUXA5w-y-ln"
      },
      "source": [
        "os.chdir('/content/drive/MyDrive/IIPE/data/')"
      ],
      "execution_count": 19,
      "outputs": []
    },
    {
      "cell_type": "code",
      "metadata": {
        "colab": {
          "base_uri": "https://localhost:8080/",
          "height": 35
        },
        "id": "C7TJFnYC1EoA",
        "outputId": "37f56c1a-f1d3-4f1a-866d-98d989c28e24"
      },
      "source": [
        "os.getcwd()"
      ],
      "execution_count": 20,
      "outputs": [
        {
          "output_type": "execute_result",
          "data": {
            "application/vnd.google.colaboratory.intrinsic+json": {
              "type": "string"
            },
            "text/plain": [
              "'/content/drive/MyDrive/IIPE/data'"
            ]
          },
          "metadata": {
            "tags": []
          },
          "execution_count": 20
        }
      ]
    },
    {
      "cell_type": "code",
      "metadata": {
        "kernel": "Python 3",
        "colab": {
          "base_uri": "https://localhost:8080/"
        },
        "id": "5Sz8RkBVy-ln",
        "outputId": "0cd91499-ac83-452c-9a1c-3ea1cbea8af5"
      },
      "source": [
        "if os.getcwd()!=\"/content/drive/MyDrive/IIPE/data\":\n",
        "    print(\"Please insert the WORKING DIRECTORY\")                                                            # We create a loop so that the user establishes the working directory\n",
        "    print(\"Remember to separate the backslash (for Windows) or forward slash (in Mac)\") \n",
        "    while True:                                                                             \n",
        "        NewPath=input()                                                                                     # The user inserts the working directory\n",
        "        if os.path.exists(NewPath)==True:                                                                   # If the program exists, the working directory will be updated\n",
        "            os.chdir(NewPath)                                                               \n",
        "            print(\"Your new path is \" + os.getcwd())                                        \n",
        "            break                                                                                           # If the condition is met, the program keeps running\n",
        "        else:                                                                                               # If the condition is not met, the program requests the user to\n",
        "            print(\"Please check if the path is correctly written\")                                          # insert a new path and the condition is checked again\n",
        "        continue\n",
        "else: \n",
        "    print(\"Your path is \" + os.getcwd())"
      ],
      "execution_count": 21,
      "outputs": [
        {
          "output_type": "stream",
          "text": [
            "Your path is /content/drive/MyDrive/IIPE/data\n"
          ],
          "name": "stdout"
        }
      ]
    },
    {
      "cell_type": "markdown",
      "metadata": {
        "kernel": "SoS",
        "id": "gsApuWpDy-lo"
      },
      "source": [
        "## Extracting the tables from the webpage and turning them into a DataFrame\n",
        "\n",
        "Note that his DataFrame will not only work to later download the corresponding reports, but it is a useful Metadata database, which can be then used to make analyses on the different results across time, location, or type of school. "
      ]
    },
    {
      "cell_type": "markdown",
      "metadata": {
        "id": "kP4C8fqPy-lo"
      },
      "source": [
        "If the error below occur, run `pip install lxml`\n",
        "\n",
        "_FeatureNotFound: Couldn't find a tree builder with the features you requested: lxml. Do you need to install a parser library?_"
      ]
    },
    {
      "cell_type": "code",
      "metadata": {
        "scrolled": false,
        "colab": {
          "base_uri": "https://localhost:8080/"
        },
        "id": "P6R6M79Ay-lo",
        "outputId": "e6a2bb38-040f-4b1f-96ab-a72df8edfdd5"
      },
      "source": [
        "!pip install lxml"
      ],
      "execution_count": 23,
      "outputs": [
        {
          "output_type": "stream",
          "text": [
            "Requirement already satisfied: lxml in /usr/local/lib/python3.6/dist-packages (4.2.6)\n"
          ],
          "name": "stdout"
        }
      ]
    },
    {
      "cell_type": "code",
      "metadata": {
        "kernel": "Python 3",
        "colab": {
          "base_uri": "https://localhost:8080/"
        },
        "id": "TBfRKUply-lp",
        "outputId": "8d96e294-d32a-4299-c235-7e9e582bcca9"
      },
      "source": [
        "WebpageRoot = \"https://www.education.ie/en/Publications/Inspection-Reports-Publications/Whole-School-Evaluation-Reports-List/?pageNumber=\"\n",
        "General_InspectionReports = pd.DataFrame(columns=['Date','School Roll No.','County','School Name','School Level','Inspection Type','Subject','URL'])\n",
        "\n",
        "# Records:    1 to   20 of 3871\n",
        "# Records:                             3861 to 3871 of 3871\n",
        "# Pages:     1|    |     |     |     |   194 |\n",
        "print(\"How many pages would you like to download?\")\n",
        "\n",
        "NumberPages = input()\n",
        "\n",
        "for x in range(1,int(NumberPages)):\n",
        "    IrelandWebpage = requests.get(WebpageRoot + str(x))\n",
        "    CleanIrelandWebpage = bs4.BeautifulSoup(IrelandWebpage.text, \"lxml\")\n",
        "    InspectionReports = {}\n",
        "    ID = 0\n",
        "    Table = CleanIrelandWebpage.find('table', id=\"IRList\")\n",
        "    for p in Table.find_all('tr'):\n",
        "        if ID == 0:\n",
        "            ID = ID + 1\n",
        "            continue\n",
        "        else:\n",
        "            Date = p('td')[0].string[:2] + '_' + p('td')[0].string[3:5] + '_' + p('td')[0].string[6:]\n",
        "            SchoolRoll = p('td')[1].string\n",
        "            County = p('td')[2].string\n",
        "            SchoolName = p('td')[3].string\n",
        "            SchoolLevel = p('td')[4].string\n",
        "            InspectionType = p('td')[5].string\n",
        "            Subject = p('td')[6].string\n",
        "            URL = p('td')[7]('a')[0].attrs['href'][86:]\n",
        "            InspectionReports[ID] = {'Date': Date, 'School Roll No.': SchoolRoll, 'County': County, 'School Name': SchoolName, 'School Level': SchoolLevel, 'Inspection Type': InspectionType, 'Subject': Subject, 'URL': URL}\n",
        "            ID = ID + 1\n",
        "\n",
        "    df_InspectionReports = pd.DataFrame.from_dict(InspectionReports, orient='index')\n",
        "    General_InspectionReports = pd.concat([General_InspectionReports,df_InspectionReports]) \n"
      ],
      "execution_count": 24,
      "outputs": [
        {
          "output_type": "stream",
          "text": [
            "How many pages would you like to download?\n",
            "10\n"
          ],
          "name": "stdout"
        }
      ]
    },
    {
      "cell_type": "code",
      "metadata": {
        "colab": {
          "base_uri": "https://localhost:8080/",
          "height": 220
        },
        "id": "tM-rC1zuy-lp",
        "outputId": "e7e32f6c-06d4-4fdb-d3ca-6033b47b9f96"
      },
      "source": [
        "pd.concat([df_InspectionReports.head(3), df_InspectionReports.tail(3)])"
      ],
      "execution_count": 27,
      "outputs": [
        {
          "output_type": "execute_result",
          "data": {
            "text/html": [
              "<div>\n",
              "<style scoped>\n",
              "    .dataframe tbody tr th:only-of-type {\n",
              "        vertical-align: middle;\n",
              "    }\n",
              "\n",
              "    .dataframe tbody tr th {\n",
              "        vertical-align: top;\n",
              "    }\n",
              "\n",
              "    .dataframe thead th {\n",
              "        text-align: right;\n",
              "    }\n",
              "</style>\n",
              "<table border=\"1\" class=\"dataframe\">\n",
              "  <thead>\n",
              "    <tr style=\"text-align: right;\">\n",
              "      <th></th>\n",
              "      <th>Date</th>\n",
              "      <th>School Roll No.</th>\n",
              "      <th>County</th>\n",
              "      <th>School Name</th>\n",
              "      <th>School Level</th>\n",
              "      <th>Inspection Type</th>\n",
              "      <th>Subject</th>\n",
              "      <th>URL</th>\n",
              "    </tr>\n",
              "  </thead>\n",
              "  <tbody>\n",
              "    <tr>\n",
              "      <th>1</th>\n",
              "      <td>18_06_2019</td>\n",
              "      <td>15496Q</td>\n",
              "      <td>Sligo</td>\n",
              "      <td>Leaffoney N S Leaffoney Kilglass Sligo</td>\n",
              "      <td>Primary</td>\n",
              "      <td>Whole School Evaluation</td>\n",
              "      <td>None</td>\n",
              "      <td>15496Q_WSEMLLP_10042_20190313.pdf</td>\n",
              "    </tr>\n",
              "    <tr>\n",
              "      <th>2</th>\n",
              "      <td>18_06_2019</td>\n",
              "      <td>17313P</td>\n",
              "      <td>Cork</td>\n",
              "      <td>Our Lady Of Lourdes, Ballinlough Road, Cork</td>\n",
              "      <td>Primary</td>\n",
              "      <td>Whole School Evaluation</td>\n",
              "      <td>None</td>\n",
              "      <td>17313P_WSEMLLP_9555_20190405.pdf</td>\n",
              "    </tr>\n",
              "    <tr>\n",
              "      <th>3</th>\n",
              "      <td>18_06_2019</td>\n",
              "      <td>18044T</td>\n",
              "      <td>Meath</td>\n",
              "      <td>S N Naomh Padraig Cockhill Road Stamullen Meath</td>\n",
              "      <td>Primary</td>\n",
              "      <td>Whole School Evaluation</td>\n",
              "      <td>None</td>\n",
              "      <td>18044T_WSEMLLP_9482_20190412.pdf</td>\n",
              "    </tr>\n",
              "    <tr>\n",
              "      <th>18</th>\n",
              "      <td>30_05_2019</td>\n",
              "      <td>17799V</td>\n",
              "      <td>Tipperary N.R.</td>\n",
              "      <td>S N Na hAille Aill An Mhóin Ard Tipperary</td>\n",
              "      <td>Primary</td>\n",
              "      <td>Whole School Evaluation</td>\n",
              "      <td>None</td>\n",
              "      <td>17799V_WSEMLLP_9627_20190313.pdf</td>\n",
              "    </tr>\n",
              "    <tr>\n",
              "      <th>19</th>\n",
              "      <td>30_05_2019</td>\n",
              "      <td>91396R</td>\n",
              "      <td>Cork</td>\n",
              "      <td>Douglas Community School, Clermont Avenue, Dou...</td>\n",
              "      <td>Post Primary</td>\n",
              "      <td>Whole School Evaluation</td>\n",
              "      <td>None</td>\n",
              "      <td>91396R_WSEMLLPP_9792_20190222.pdf</td>\n",
              "    </tr>\n",
              "    <tr>\n",
              "      <th>20</th>\n",
              "      <td>29_05_2019</td>\n",
              "      <td>19837N</td>\n",
              "      <td>Dublin</td>\n",
              "      <td>Drimnagh Castle Cbs N S Drimnagh Castle Long M...</td>\n",
              "      <td>Primary</td>\n",
              "      <td>Whole School Evaluation</td>\n",
              "      <td>None</td>\n",
              "      <td>19837N_WSEMLLP_9455_20190307.pdf</td>\n",
              "    </tr>\n",
              "  </tbody>\n",
              "</table>\n",
              "</div>"
            ],
            "text/plain": [
              "          Date School Roll No.  ... Subject                                URL\n",
              "1   18_06_2019          15496Q  ...    None  15496Q_WSEMLLP_10042_20190313.pdf\n",
              "2   18_06_2019          17313P  ...    None   17313P_WSEMLLP_9555_20190405.pdf\n",
              "3   18_06_2019          18044T  ...    None   18044T_WSEMLLP_9482_20190412.pdf\n",
              "18  30_05_2019          17799V  ...    None   17799V_WSEMLLP_9627_20190313.pdf\n",
              "19  30_05_2019          91396R  ...    None  91396R_WSEMLLPP_9792_20190222.pdf\n",
              "20  29_05_2019          19837N  ...    None   19837N_WSEMLLP_9455_20190307.pdf\n",
              "\n",
              "[6 rows x 8 columns]"
            ]
          },
          "metadata": {
            "tags": []
          },
          "execution_count": 27
        }
      ]
    },
    {
      "cell_type": "code",
      "metadata": {
        "colab": {
          "base_uri": "https://localhost:8080/",
          "height": 220
        },
        "id": "aKXYmSZXy-lp",
        "outputId": "af8a4305-e898-444b-d62d-50e96f9a6e95"
      },
      "source": [
        "pd.concat([General_InspectionReports.head(3), General_InspectionReports.tail(3)])"
      ],
      "execution_count": 28,
      "outputs": [
        {
          "output_type": "execute_result",
          "data": {
            "text/html": [
              "<div>\n",
              "<style scoped>\n",
              "    .dataframe tbody tr th:only-of-type {\n",
              "        vertical-align: middle;\n",
              "    }\n",
              "\n",
              "    .dataframe tbody tr th {\n",
              "        vertical-align: top;\n",
              "    }\n",
              "\n",
              "    .dataframe thead th {\n",
              "        text-align: right;\n",
              "    }\n",
              "</style>\n",
              "<table border=\"1\" class=\"dataframe\">\n",
              "  <thead>\n",
              "    <tr style=\"text-align: right;\">\n",
              "      <th></th>\n",
              "      <th>Date</th>\n",
              "      <th>School Roll No.</th>\n",
              "      <th>County</th>\n",
              "      <th>School Name</th>\n",
              "      <th>School Level</th>\n",
              "      <th>Inspection Type</th>\n",
              "      <th>Subject</th>\n",
              "      <th>URL</th>\n",
              "    </tr>\n",
              "  </thead>\n",
              "  <tbody>\n",
              "    <tr>\n",
              "      <th>1</th>\n",
              "      <td>27_01_2021</td>\n",
              "      <td>70660O</td>\n",
              "      <td>Kildare</td>\n",
              "      <td>Curragh Post-Primary School Mcswiney Road Curr...</td>\n",
              "      <td>Post Primary</td>\n",
              "      <td>Whole School Evaluation</td>\n",
              "      <td>None</td>\n",
              "      <td>70660O_WSEMLLPP_14538_20200207.pdf</td>\n",
              "    </tr>\n",
              "    <tr>\n",
              "      <th>2</th>\n",
              "      <td>26_01_2021</td>\n",
              "      <td>61811I</td>\n",
              "      <td>Wicklow</td>\n",
              "      <td>St. Gerard's School Thornhill Road Bray Wicklow</td>\n",
              "      <td>Post Primary</td>\n",
              "      <td>Whole School Evaluation</td>\n",
              "      <td>None</td>\n",
              "      <td>61811I_WSEMLLPP_14721_20200331.pdf</td>\n",
              "    </tr>\n",
              "    <tr>\n",
              "      <th>3</th>\n",
              "      <td>15_01_2021</td>\n",
              "      <td>62360G</td>\n",
              "      <td>Cork</td>\n",
              "      <td>Christian Brothers Secondary School Castleredm...</td>\n",
              "      <td>Post Primary</td>\n",
              "      <td>Whole School Evaluation</td>\n",
              "      <td>None</td>\n",
              "      <td>62360G_WSEMLLPP_15122_20201109.pdf</td>\n",
              "    </tr>\n",
              "    <tr>\n",
              "      <th>18</th>\n",
              "      <td>30_05_2019</td>\n",
              "      <td>17799V</td>\n",
              "      <td>Tipperary N.R.</td>\n",
              "      <td>S N Na hAille Aill An Mhóin Ard Tipperary</td>\n",
              "      <td>Primary</td>\n",
              "      <td>Whole School Evaluation</td>\n",
              "      <td>None</td>\n",
              "      <td>17799V_WSEMLLP_9627_20190313.pdf</td>\n",
              "    </tr>\n",
              "    <tr>\n",
              "      <th>19</th>\n",
              "      <td>30_05_2019</td>\n",
              "      <td>91396R</td>\n",
              "      <td>Cork</td>\n",
              "      <td>Douglas Community School, Clermont Avenue, Dou...</td>\n",
              "      <td>Post Primary</td>\n",
              "      <td>Whole School Evaluation</td>\n",
              "      <td>None</td>\n",
              "      <td>91396R_WSEMLLPP_9792_20190222.pdf</td>\n",
              "    </tr>\n",
              "    <tr>\n",
              "      <th>20</th>\n",
              "      <td>29_05_2019</td>\n",
              "      <td>19837N</td>\n",
              "      <td>Dublin</td>\n",
              "      <td>Drimnagh Castle Cbs N S Drimnagh Castle Long M...</td>\n",
              "      <td>Primary</td>\n",
              "      <td>Whole School Evaluation</td>\n",
              "      <td>None</td>\n",
              "      <td>19837N_WSEMLLP_9455_20190307.pdf</td>\n",
              "    </tr>\n",
              "  </tbody>\n",
              "</table>\n",
              "</div>"
            ],
            "text/plain": [
              "          Date School Roll No.  ... Subject                                 URL\n",
              "1   27_01_2021          70660O  ...    None  70660O_WSEMLLPP_14538_20200207.pdf\n",
              "2   26_01_2021          61811I  ...    None  61811I_WSEMLLPP_14721_20200331.pdf\n",
              "3   15_01_2021          62360G  ...    None  62360G_WSEMLLPP_15122_20201109.pdf\n",
              "18  30_05_2019          17799V  ...    None    17799V_WSEMLLP_9627_20190313.pdf\n",
              "19  30_05_2019          91396R  ...    None   91396R_WSEMLLPP_9792_20190222.pdf\n",
              "20  29_05_2019          19837N  ...    None    19837N_WSEMLLP_9455_20190307.pdf\n",
              "\n",
              "[6 rows x 8 columns]"
            ]
          },
          "metadata": {
            "tags": []
          },
          "execution_count": 28
        }
      ]
    },
    {
      "cell_type": "markdown",
      "metadata": {
        "kernel": "SoS",
        "id": "U5o2UCu8y-lq"
      },
      "source": [
        "## Downloading the PDFs"
      ]
    },
    {
      "cell_type": "code",
      "metadata": {
        "kernel": "Python 3",
        "scrolled": true,
        "id": "23jcB1yBy-lq"
      },
      "source": [
        "PDFToConvert = []\n",
        "for index, row in General_InspectionReports.iterrows():\n",
        "    DownloadURL = 'https://www.education.ie/en/Publications/Inspection-Reports-Publications/Whole-School-Evaluation-Reports-List/' + row['URL']\n",
        "    FileName = 'Reports\\\\' + row['School Roll No.'] + '_' + row['Date'] + '.pdf'\n",
        "    PDFToConvert.append('Reports\\\\' + row['School Roll No.'] + '_' + row['Date'])\n",
        "    print('Report ' + row['School Roll No.'] + ' downloaded')\n",
        "    wget.download(DownloadURL, FileName)"
      ],
      "execution_count": null,
      "outputs": []
    },
    {
      "cell_type": "markdown",
      "metadata": {
        "kernel": "Python 3",
        "id": "Fhnf-AM3y-lq"
      },
      "source": [
        "## Converting the PDFs to text and cleaning them from unusefull content"
      ]
    },
    {
      "cell_type": "code",
      "metadata": {
        "kernel": "Python 3",
        "id": "d-DMIQiqy-lr"
      },
      "source": [
        "ConvertionCategories = {\"Properly processed\":0, \"Not in text format\":0, \"Cannot be processed\":0}\n",
        "FilesProperlyConverted = {}\n",
        "FilesNotConverted = []\n",
        "def find_2nd(string, substring):\n",
        "    return string.find(substring, string.find(substring) + 1)\n",
        "for PDF in PDFToConvert:\n",
        "    try: \n",
        "        Text = extract_text(PDF + '.pdf')\n",
        "        if len(Text)==0:\n",
        "            ConvertionCategories[\"Not in text format\"] = ConvertionCategories[\"Not in text format\"] + 1\n",
        "            print(PDF + ' is not in text format')\n",
        "        else:\n",
        "            ConvertionCategories[\"Properly processed\"] = ConvertionCategories[\"Properly processed\"] + 1\n",
        "            Option1 = Text.find('WHOLE-SCHOOL EVALUATION – MANAGEMENT, LEADERSHIP AND LEARNING   Dates of inspection')\n",
        "            if Option1 != -1:\n",
        "                Text = Text[Option1:]\n",
        "            Option2 = Text.find('WHOLE-SCHOOL EVALUATION – MANAGEMENT, LEADERSHIP AND LEARNING    Date of inspection')\n",
        "            if Option2 != -1:\n",
        "                Text = Text[Option2:]\n",
        "            Option3 = Text.find('WHOLE-SCHOOL EVALUATION – MANAGEMENT, LEADERSHIP AND LEARNING  Dates of inspection')\n",
        "            if Option3 != -1:\n",
        "                Text = Text[Option3:]\n",
        "            Option4 = Text.find('WHOLE-SCHOOL EVALUATION – MANAGEMENT, LEADERSHIP AND LEARNING Dates of inspection')\n",
        "            if Option4 != -1:\n",
        "                Text = Text[Option4:]\n",
        "            Option5 = Text.find('Whole-School Evaluation – Management, Leadership and Learning Dates of inspection')\n",
        "            if Option5 != -1:\n",
        "                Text = Text[Option5:]\n",
        "            Option6 = Text.find('Whole-School Evaluation Date of inspection')\n",
        "            if Option6 != -1:\n",
        "                Text = Text[Option6:]\n",
        "            if Text.find('An Roinn') == 1:\n",
        "                Text = Text[find_2nd(Text, 'Dates of inspection'):]\n",
        "            Option7 = Text.find('THE INSPECTORATE’S QUALITY CONTINUUM')\n",
        "            if Option7 != -1:\n",
        "                Text = Text[:Option7 - 1]\n",
        "            Option8 = Text.find('MEASTÓIREACHT SCOILE UILE – BAINISTÍOCHT, CEANNAIREACHT AGUS FOGHLAIM')\n",
        "            if Option8 != -1:\n",
        "                FilesNotConverted.append(PDF[8:])\n",
        "                print('Report ' + PDF[8:] + ' could not be processed')\n",
        "                continue\n",
        "            FilesProperlyConverted[PDF] = {'Text': Text}\n",
        "            with open(\"Reports\\\\Plain text\\\\\" + PDF[8:] + \".txt\", \"w\", errors=\"ignore\") as output:\n",
        "                output.write(str(Text))\n",
        "            print('Report ' + PDF[8:] + ' properly processed')\n",
        "    except (KeyError, UnicodeEncodeError):\n",
        "        ConvertionCategories[\"Cannot be processed\"] = ConvertionCategories[\"Cannot be processed\"] + 1\n",
        "        FilesNotConverted.append(PDF[8:])\n",
        "        print('Report ' + PDF[8:] + ' could not be processed')\n",
        "        continue\n",
        "\n",
        "df_FilesProperlyConverted = pd.DataFrame.from_dict(FilesProperlyConverted, orient='index')\n",
        "\n",
        "plt.bar(*zip(*ConvertionCategories.items()))\n",
        "#plt.show()\n",
        "\n",
        "General_InspectionReports['Key'] = General_InspectionReports['School Roll No.'] + '_' + General_InspectionReports['Date']\n",
        "General_InspectionReports.to_csv(r'Reports\\\\InspectionReports.csv', index=False)\n",
        "for p in range(len(FilesNotConverted)):\n",
        "    General_InspectionReports.drop(General_InspectionReports[General_InspectionReports.Key == FilesNotConverted[p]].index, inplace=True)\n",
        "General_InspectionReports.to_csv(r'Reports\\\\InspectionReports2.csv', index=False)"
      ],
      "execution_count": null,
      "outputs": []
    },
    {
      "cell_type": "code",
      "metadata": {
        "colab": {
          "base_uri": "https://localhost:8080/",
          "height": 191
        },
        "id": "koC8RdBg-BaV",
        "outputId": "bc533433-3e18-4862-e4bc-9504796949bb"
      },
      "source": [
        "df_FilesProperlyConverted.head()"
      ],
      "execution_count": 50,
      "outputs": [
        {
          "output_type": "execute_result",
          "data": {
            "text/html": [
              "<div>\n",
              "<style scoped>\n",
              "    .dataframe tbody tr th:only-of-type {\n",
              "        vertical-align: middle;\n",
              "    }\n",
              "\n",
              "    .dataframe tbody tr th {\n",
              "        vertical-align: top;\n",
              "    }\n",
              "\n",
              "    .dataframe thead th {\n",
              "        text-align: right;\n",
              "    }\n",
              "</style>\n",
              "<table border=\"1\" class=\"dataframe\">\n",
              "  <thead>\n",
              "    <tr style=\"text-align: right;\">\n",
              "      <th></th>\n",
              "      <th>Text</th>\n",
              "    </tr>\n",
              "  </thead>\n",
              "  <tbody>\n",
              "    <tr>\n",
              "      <th>Reports\\01300Q_08_10_2020</th>\n",
              "      <td>Whole-School Evaluation – Management, Leadersh...</td>\n",
              "    </tr>\n",
              "    <tr>\n",
              "      <th>Reports\\03220F_15_11_2019</th>\n",
              "      <td>Whole-School Evaluation – Management, Leadersh...</td>\n",
              "    </tr>\n",
              "    <tr>\n",
              "      <th>Reports\\03917V_23_09_2020</th>\n",
              "      <td>Whole-School Evaluation – Management, Leadersh...</td>\n",
              "    </tr>\n",
              "    <tr>\n",
              "      <th>Reports\\05933G_08_10_2020</th>\n",
              "      <td>Whole-School Evaluation – Management, Leadersh...</td>\n",
              "    </tr>\n",
              "    <tr>\n",
              "      <th>Reports\\07518E_15_12_2020</th>\n",
              "      <td>Whole-School Evaluation – Management, Leadersh...</td>\n",
              "    </tr>\n",
              "  </tbody>\n",
              "</table>\n",
              "</div>"
            ],
            "text/plain": [
              "                                                                        Text\n",
              "Reports\\01300Q_08_10_2020  Whole-School Evaluation – Management, Leadersh...\n",
              "Reports\\03220F_15_11_2019  Whole-School Evaluation – Management, Leadersh...\n",
              "Reports\\03917V_23_09_2020  Whole-School Evaluation – Management, Leadersh...\n",
              "Reports\\05933G_08_10_2020  Whole-School Evaluation – Management, Leadersh...\n",
              "Reports\\07518E_15_12_2020  Whole-School Evaluation – Management, Leadersh..."
            ]
          },
          "metadata": {
            "tags": []
          },
          "execution_count": 50
        }
      ]
    },
    {
      "cell_type": "code",
      "metadata": {
        "colab": {
          "base_uri": "https://localhost:8080/",
          "height": 116
        },
        "id": "YFoVMJ4B9xm7",
        "outputId": "b09b2cb5-bf16-42e0-94bc-cc02a2dabc30"
      },
      "source": [
        "df_FilesProperlyConverted.head().Text[0]"
      ],
      "execution_count": 49,
      "outputs": [
        {
          "output_type": "execute_result",
          "data": {
            "application/vnd.google.colaboratory.intrinsic+json": {
              "type": "string"
            },
            "text/plain": [
              "'Whole-School Evaluation – Management, Leadership and Learning Dates of inspection  11-02-2020 Inspection activities undertaken \\uf0b7 Meetings with principal and in-school leadership team  \\uf0b7 Meeting with representatives of the board of management \\uf0b7 Meeting with parent representatives \\uf0b7 Review of relevant documents   \\uf0b7 Analysis of parent and pupil questionnaires \\uf0b7 Observation of teaching and learning  \\uf0b7 Examination of pupils’ work  \\uf0b7 Interaction with pupils  \\uf0b7 Feedback to principal, deputy principal and teachers, and to parent and board of management representatives  SCHOOL CONTEXT St Michael’s National School is a rural school located in the village of Danesfort, Co. Kilkenny and operates under the patronage of the Catholic Bishop of Ossory. It has two mainstream class teachers and one special education teacher, shared with another school. Attendance rates of the forty six pupils enrolled are very good.  SUMMARY OF MAIN FINDINGS AND RECOMMENDATIONS:  FINDINGS  \\uf0b7 Support for pupils’ well-being is of a very high quality with a commendable emphasis on physical activity and mental well-being. \\uf0b7 The quality of leadership and management is very good, communication of decisions to the wider school community needs to be reviewed. \\uf0b7 The quality of teaching is good overall; improvements in planning and assessment require attention. \\uf0b7 The quality of the pupils’ learning overall is good; appropriate differentiation and behaviour management require development.  \\uf0b7 Supports for pupils with special educational needs (SEN) is good; scope exists for a review of time allocation and assessment approaches.  \\uf0b7 School self-evaluation (SSE) is satisfactory; further input is required to ensure the impact of SSE is evident in classroom practice.    RECOMMENDATIONS \\uf0b7 The school should ensure than all special education teaching hours are allocated in accordance with Department of Education guidelines in Circular No 0013/2017. \\uf0b7 Teachers should ensure that agreed whole-school approaches for the provision of appropriately differentiated learning tasks and expected pupil behaviour are consistent features of all lessons.  \\uf0b7 The school should review planning and assessment practices to ensure that all areas of the curriculum are covered effectively.  \\uf0b7 An agreed report should be shared with the school community after each board meeting and mechanisms to involve parents in policy formation require development.  \\x0cDETAILED FINDINGS AND RECOMMENDATIONS  1. THE QUALITY OF PUPILS’ LEARNING \\uf0b7 The quality of pupils’ learning is good overall. Most pupils achieve a good standard in English and Mathematics with some pupils achieving very good outcomes. Some pupils have access to differentiated-reading material and writing tasks, with regular monitoring of progress and learning outcomes. Appropriate differentiation and monitoring of components of reading and writing should be in place for all pupils. Differentiated outcomes and tasks are in place for all pupils in Mathematics. Good use is made of resources to enhance pupils’ learning experiences. While all pupils engaged with tasks, some pupils experienced difficulties with sustained engagement. Where very good outcomes were evident, all pupils were provided with appropriately differentiated tasks which ensured sustained engagement and very good learning outcomes. \\uf0b7 Tá cumas na ndaltaí sa Ghaeilge an mhaith. Is féidir leis na daltaí abairtí iomlána a úsáid agus ceisteanna a chur agus a fhreagairt go muiníneach. Is féidir leo raon an-mhaith de dánta agus d’amhráin a chur i láthair go cumasach. Bíonn deiseanna ag na daltaí scribhneoireacht a dhéanamh ach ba choir níos mó éagsúlacht a cur i bhfeidhm. The pupils’ ability in Irish is very good. Pupils are able to use complete sentences and are able to pose and answer questions confidently. They can perform a range of songs and poems competently. Pupils write regularly in Irish; more variety of writing tasks should be provided.  \\uf0b7 Pupil learning, observed during the evaluation, in Social, Environmental and Scientific Education (SESE) Music, Visual Arts and Physical Education was praiseworthy. Skills development, guided discovery learning and pupil enjoyment received due attention in these lessons. Further development in short-term planning is required to ensure breadth, balance and consistency of pupil learning in subjects across the curriculum.    2. THE QUALITY OF TEACHING \\uf0b7 The quality of teaching is good overall, teaching observed ranged from very good to satisfactory. Where very good practice was observed, teachers prepared appropriately differentiated tasks, communicated very clear expectations to pupils about behaviour, and used a range of teaching methodologies to promote purposeful pupil engagement. The school should ensure that this highly-effective practice is implemented in all lessons.  \\uf0b7 Teachers’ planning and preparation are good overall. Teacher subject knowledge in all settings is commendable. Engagement with the Primary Language Curriculum (PLC) is evident in teachers’ written plans.  Aistear: the Early Childhood Curriculum Framework has been implemented to a good standard in the school. Plans identify clear learning outcomes for most curriculum subjects. While short term plans are in place, development is required to ensure that all timetabled subject areas have appropriate learning outcomes in place for each fortnight to ensure breadth and balance across the curriculum.  \\uf0b7 The quality of teaching observed in special education settings is good. Relationships and interactions support a co-operative and productive learning environment. An awareness of pupils’ personal and learning needs is evident. While the Continuum of Support is being implemented, not all allocated time is being used to support pupils with the highest level of need. Timetables should now be devised in accordance with Department of Education guidelines in Circular No 0013/2017. \\x0c\\uf0b7 The school uses some diagnostic tests to identify pupils’ individual learning needs in aspects of literacy. The range of diagnostic testing should be expanded, particularly in Mathematics and reading comprehension, to inform learning targets to meet individual pupil need.  \\uf0b7 The overall quality of assessment is satisfactory. Teachers use a range of assessment tools. In some instances, very good use is made of this assessment information to identify learning needs and to plan for teaching and learning. A more consistent approach to the assessment of pupil learning across the curriculum is required.    3. THE QUALITY OF SUPPORT FOR PUPILS’ WELL-BEING \\uf0b7 Support for pupils’ well-being in the school is highly commendable. There is a caring, inclusive and welcoming atmosphere throughout the school. A positive, collegial atmosphere prevails and teachers have participated in professional development to support pupil well-being.  \\uf0b7 A wide range of curricular, co-curricular and extra-curricular activities is provided and is impacting positively on pupils’ well-being. While pupils can discuss and demonstrate enjoyment of events, further consideration should be given to increasing opportunities for pupil voice and pupil leadership. \\uf0b7 The school implements a cohesive, whole-school approach to the teaching of Social, Personal and Health Education (SPHE), Stay Safe, and Relationships and Sexuality Education (RSE). Most parents who completed questionnaires agreed that the school helps their child’s social and personal development and that they were informed of the schools’ Code of Behaviour and the Anti-Bullying Policy. Communication of the school’s RSE policy should be enhanced.   4. THE QUALITY OF LEADERSHIP AND MANAGEMENT  \\uf0b7 The overall quality of leadership and management is very good. The board of management is very supportive of staff professional development and is committed to providing a safe, well-run, orderly school.  There is scope for more regular communication from the board. It is recommended that a report be issued regularly to the wider school community on the work of the school and the work of the board. \\uf0b7 The principal demonstrates very good leadership skills and a strong commitment to teaching and learning in the school. The principal is aware of the school’s changing needs and has plans to address these needs.  \\uf0b7  The in-school management (ISM) team demonstrates highly-effective collaboration in the day-to-day management of the school with a clearly identified set of duties. Consideration should be given to reviewing the existing duties to ensure management of the planning and implementation of the school curriculum.  It is recommended that members of the ISM report on their work to the board of management. \\uf0b7 There is very good communication between the school and parents. Parents are kept informed of the work of the school through a range of media. Questionnaires from parents indicate that most parents feel welcome in the school, know who to talk to if there is a problem and that the school helps their child with personal and social development. The school has established a parents’ association. They provide commendable support to the school to organise school and community events. While policies are available to parents, further development is required to involve parents in on-going policy development. \\uf0b7 The school reported that it provides placements for student teachers regularly. Such engagement in initial teacher education programmes is welcome and is included among the Teaching Council’s Code of Professional Conduct for Teachers, as it can provide valuable benefits for teachers, pupils and the teacher education institute. \\x0c  5. THE QUALITY OF SCHOOL SELF-EVALUATION \\uf0b7 The quality of SSE is satisfactory. The school has identified problem solving in Mathematics as an area or development. Data has been gathered from parents. Further development is required to devise a plan to meet the school’s need. The school’s capacity to develop and implement recommendations is very good.    \\x0c           Appendix  SCHOOL RESPONSE TO THE REPORT  Submitted by the Board of Management               \\x0cPart A Observations on the content of the inspection report       The Board is delighted that the inspection report has affirmed the hard work of the school in providing very high quality support for pupils’ well-being, as this is the cornerstone of our happy and productive learning environment. The Board also acknowledges the positive report on the leadership, teaching and learning in our school. Overall, the Whole School Evaluation process has been a valuable experience, giving us a good overview of the school and aids our prioritisation of work into the future.  Part B   Follow-up actions planned or undertaken since the completion of the inspection activity to implement the findings and recommendations of the inspection.        In response to the recommendations made, the school has taken the following actions: \\uf0b7 The Special Education timetable has been updated and all hours are now allocated in accordance with circular 0013/2017. \\uf0b7 Curriculum policy reviews will have an increased focus on whole-school approaches for differentiation of learning tasks. \\uf0b7 Planning is now done on a fortnightly basis, rather than monthly, ensuring all areas of the curriculum are consistently covered.     \\uf0b7 A report is now shared with the school community after every Board of Management meeting. \\uf0b7 Policy formation and reviews will involve input from the Parents’ Association, when Covid 19 guidelines allow for meetings to be held again.   \\x0cPublished October 2020 / Foilsithe Deireadh Fómhair 2020\\n\\n '"
            ]
          },
          "metadata": {
            "tags": []
          },
          "execution_count": 49
        }
      ]
    },
    {
      "cell_type": "markdown",
      "metadata": {
        "kernel": "Python 3",
        "id": "PbwqQ6XGy-ls"
      },
      "source": [
        "### Most used words\n"
      ]
    },
    {
      "cell_type": "code",
      "metadata": {
        "colab": {
          "base_uri": "https://localhost:8080/"
        },
        "id": "1ogaWxE07yHu",
        "outputId": "e04e88de-47af-48e1-fcc2-77002072fb34"
      },
      "source": [
        "!pip install nltk"
      ],
      "execution_count": 33,
      "outputs": [
        {
          "output_type": "stream",
          "text": [
            "Requirement already satisfied: nltk in /usr/local/lib/python3.6/dist-packages (3.2.5)\n",
            "Requirement already satisfied: six in /usr/local/lib/python3.6/dist-packages (from nltk) (1.15.0)\n"
          ],
          "name": "stdout"
        }
      ]
    },
    {
      "cell_type": "code",
      "metadata": {
        "colab": {
          "base_uri": "https://localhost:8080/"
        },
        "id": "ObFxkbkU75EE",
        "outputId": "9dba2f80-6bbf-4753-c210-a080c2118158"
      },
      "source": [
        "import nltk\n",
        "nltk.download('stopwords')\n",
        "nltk.download('punkt')\n",
        "nltk.download('wordnet')"
      ],
      "execution_count": 39,
      "outputs": [
        {
          "output_type": "stream",
          "text": [
            "[nltk_data] Downloading package stopwords to /root/nltk_data...\n",
            "[nltk_data]   Package stopwords is already up-to-date!\n",
            "[nltk_data] Downloading package punkt to /root/nltk_data...\n",
            "[nltk_data]   Package punkt is already up-to-date!\n",
            "[nltk_data] Downloading package wordnet to /root/nltk_data...\n",
            "[nltk_data]   Unzipping corpora/wordnet.zip.\n"
          ],
          "name": "stdout"
        },
        {
          "output_type": "execute_result",
          "data": {
            "text/plain": [
              "True"
            ]
          },
          "metadata": {
            "tags": []
          },
          "execution_count": 39
        }
      ]
    },
    {
      "cell_type": "code",
      "metadata": {
        "kernel": "Python 3",
        "colab": {
          "base_uri": "https://localhost:8080/",
          "height": 351
        },
        "id": "jHPbdmp2y-ls",
        "outputId": "0a54033f-5339-4db8-d4c4-cd88e40efbdd"
      },
      "source": [
        "import matplotlib.pyplot as plt\n",
        "import nltk, re\n",
        "from nltk.corpus import stopwords\n",
        "from nltk.tokenize import sent_tokenize, word_tokenize\n",
        "from nltk.stem import WordNetLemmatizer\n",
        "from collections import Counter\n",
        "stopwords = set(nltk.corpus.stopwords.words('english'))\n",
        "\n",
        "TotalText = []\n",
        "for index, row in df_FilesProperlyConverted.iterrows():\n",
        "    text = row['Text']\n",
        "    TotalText.append(text)\n",
        "\n",
        "newStopWords = ['school','learning','student','pupil','teacher','management','teaching','support', 'lesson', 'board']\n",
        "stopwords = stopwords.union(newStopWords)\n",
        "TotalText = \" \".join(TotalText)\n",
        "tokens = [w for w in word_tokenize(TotalText.lower()) if w.isalpha()]          # isalpha() checks if each word is alphabetical, lower() transforms everything to lowercase\n",
        "no_stop = [t.strip() for t in tokens if t.strip() not in stopwords]      # stopwords already comes with a built-in list of words to remove\n",
        "wordnet_lemmatizer = WordNetLemmatizer()\n",
        "lemmatized = [wordnet_lemmatizer.lemmatize(t) for t in no_stop]\n",
        "bow = Counter(lemmatized)\n",
        "MostCommon = dict(bow.most_common(10))\n",
        "\n",
        "plt.bar(*zip(*MostCommon.items()))\n",
        "plt.title('Whole sample')\n",
        "plt.xlabel('Most common words')\n",
        "plt.ylabel('Number of times the word appears')\n",
        "plt.xticks(rotation='vertical')\n",
        "plt.savefig(\"Results\\\\Word count\\\\Whole sample.png\")\n",
        "plt.show()\n"
      ],
      "execution_count": 40,
      "outputs": [
        {
          "output_type": "display_data",
          "data": {
            "image/png": "[encoded data removed]",
            "text/plain": [
              "<Figure size 432x288 with 1 Axes>"
            ]
          },
          "metadata": {
            "tags": [],
            "needs_background": "light"
          }
        }
      ]
    },
    {
      "cell_type": "markdown",
      "metadata": {
        "kernel": "Python 3",
        "id": "SFN25_qIy-lt"
      },
      "source": [
        "## Topic modelling"
      ]
    },
    {
      "cell_type": "markdown",
      "metadata": {
        "id": "aYGUv0N39b5R"
      },
      "source": [
        "The part below is in R, this is why there is a specific kernel in the specs"
      ]
    },
    {
      "cell_type": "code",
      "metadata": {
        "kernel": "R",
        "colab": {
          "base_uri": "https://localhost:8080/",
          "height": 223
        },
        "id": "EfUiBU4Jy-lt",
        "outputId": "d6f32ffd-211e-44ae-f7bd-f1e84d2dda55"
      },
      "source": [
        "install.packages(\"readtext\")\n",
        "install.packages(\"stm\")\n",
        "install.packages(\"tm\")\n",
        "install.packages(\"SnowballC\")\n",
        "install.packages(\"igraph\")\n",
        "\n",
        "library(readtext)\n",
        "library(stm)\n",
        "library(tm)"
      ],
      "execution_count": 44,
      "outputs": [
        {
          "output_type": "error",
          "ename": "NameError",
          "evalue": "ignored",
          "traceback": [
            "\u001b[0;31m---------------------------------------------------------------------------\u001b[0m",
            "\u001b[0;31mNameError\u001b[0m                                 Traceback (most recent call last)",
            "\u001b[0;32m<ipython-input-44-0a99e583d8e0>\u001b[0m in \u001b[0;36m<module>\u001b[0;34m()\u001b[0m\n\u001b[0;32m----> 1\u001b[0;31m \u001b[0minstall\u001b[0m\u001b[0;34m.\u001b[0m\u001b[0mpackages\u001b[0m\u001b[0;34m(\u001b[0m\u001b[0;34m\"readtext\"\u001b[0m\u001b[0;34m)\u001b[0m\u001b[0;34m\u001b[0m\u001b[0;34m\u001b[0m\u001b[0m\n\u001b[0m\u001b[1;32m      2\u001b[0m \u001b[0minstall\u001b[0m\u001b[0;34m.\u001b[0m\u001b[0mpackages\u001b[0m\u001b[0;34m(\u001b[0m\u001b[0;34m\"stm\"\u001b[0m\u001b[0;34m)\u001b[0m\u001b[0;34m\u001b[0m\u001b[0;34m\u001b[0m\u001b[0m\n\u001b[1;32m      3\u001b[0m \u001b[0minstall\u001b[0m\u001b[0;34m.\u001b[0m\u001b[0mpackages\u001b[0m\u001b[0;34m(\u001b[0m\u001b[0;34m\"tm\"\u001b[0m\u001b[0;34m)\u001b[0m\u001b[0;34m\u001b[0m\u001b[0;34m\u001b[0m\u001b[0m\n\u001b[1;32m      4\u001b[0m \u001b[0minstall\u001b[0m\u001b[0;34m.\u001b[0m\u001b[0mpackages\u001b[0m\u001b[0;34m(\u001b[0m\u001b[0;34m\"SnowballC\"\u001b[0m\u001b[0;34m)\u001b[0m\u001b[0;34m\u001b[0m\u001b[0;34m\u001b[0m\u001b[0m\n\u001b[1;32m      5\u001b[0m \u001b[0minstall\u001b[0m\u001b[0;34m.\u001b[0m\u001b[0mpackages\u001b[0m\u001b[0;34m(\u001b[0m\u001b[0;34m\"igraph\"\u001b[0m\u001b[0;34m)\u001b[0m\u001b[0;34m\u001b[0m\u001b[0;34m\u001b[0m\u001b[0m\n",
            "\u001b[0;31mNameError\u001b[0m: name 'install' is not defined"
          ]
        }
      ]
    },
    {
      "cell_type": "code",
      "metadata": {
        "kernel": "R",
        "id": "rZB2Ejuay-lt"
      },
      "source": [
        "setwd(\"C:\\\\Users\\\\g.vargas\\\\BOX\\\\IIEP_MyProjects\\\\MP_01000298\\\\WorkFiles_Inspection\\\\Ireland\")\n",
        "DATA_DIR <- system.file(\"extdata/\", package = \"readtext\")\n",
        "ourdata<-readtext(\"Reports\\\\Plain text\\\\*\")\n",
        "# Import additional metadata (year, language, etc.)\n",
        "metadata <-read.csv(\"Reports\\\\InspectionReports.csv\")"
      ],
      "execution_count": null,
      "outputs": []
    },
    {
      "cell_type": "markdown",
      "metadata": {
        "kernel": "R",
        "id": "O_gbshuUy-lt"
      },
      "source": [
        ""
      ]
    },
    {
      "cell_type": "code",
      "metadata": {
        "kernel": "R",
        "id": "OSIlWlwSy-lt"
      },
      "source": [
        "# Stemming and tokenization\n",
        "NewStopWords <- c('school','learning','student','pupil', 'pupils','teacher','management','teaching','support', 'lesson', 'board')\n",
        "processed_data <- textProcessor(ourdata$text,  customstopwords=NewStopWords)\n",
        "\n",
        "# Prepare Documents For Analysis With Stm\n",
        "prepared_data <- prepDocuments(processed_data$documents, processed_data$vocab, processed_data$meta)\n",
        "# Once the prepared_data is ready, open it, see where the metadata is located, and add the information from the ourmetadata"
      ],
      "execution_count": null,
      "outputs": []
    },
    {
      "cell_type": "code",
      "metadata": {
        "kernel": "R",
        "id": "K8B50G-7y-lu"
      },
      "source": [
        "# STM MODELING\n",
        "# The number of topics can be automatically determined using searchK (see https://cbail.github.io/SICSS_Topic_Modeling.html)\n",
        "# max.em.its is how many times the model should run\n",
        "poliblogPrevFit <- stm(prepared_data$documents, prepared_data$vocab, K=3, max.em.its=30, \n",
        "                       data=prepared_data$meta, init.type=\"Spectral\")"
      ],
      "execution_count": null,
      "outputs": []
    },
    {
      "cell_type": "code",
      "metadata": {
        "kernel": "R",
        "id": "91VQvR0ky-lu"
      },
      "source": [
        "png(filename=\"Results\\\\Topic modelling\\\\Two topics word comparison.png\", \n",
        "    type=\"cairo\",\n",
        "    units=\"in\", \n",
        "    width=10, \n",
        "    height=8, \n",
        "    pointsize=12, \n",
        "    res=300)\n",
        "plot(poliblogPrevFit, type=\"perspectives\", topics=c(1,2))\n",
        "dev.off()"
      ],
      "execution_count": null,
      "outputs": []
    },
    {
      "cell_type": "code",
      "metadata": {
        "kernel": "R",
        "id": "V_Oa3Chby-lu"
      },
      "source": [
        "png(filename=\"Results\\\\Topic modelling\\\\Topic prevalence.png\", \n",
        "    type=\"cairo\",\n",
        "    units=\"in\", \n",
        "    width=10, \n",
        "    height=8, \n",
        "    pointsize=12, \n",
        "    res=300)\n",
        "plot(poliblogPrevFit, type=\"summary\", xlim=c(0,.8))\n",
        "dev.off()"
      ],
      "execution_count": null,
      "outputs": []
    },
    {
      "cell_type": "code",
      "metadata": {
        "kernel": "R",
        "id": "GEV8OYmZy-lu"
      },
      "source": [
        "png(filename=\"Results\\\\Topic modelling\\\\Words from selected topics.png\", \n",
        "    type=\"cairo\",\n",
        "    units=\"in\", \n",
        "    width=10, \n",
        "    height=8, \n",
        "    pointsize=12, \n",
        "    res=300)\n",
        "plot(poliblogPrevFit, type=\"labels\", topics=c(1,2,3))\n",
        "dev.off()"
      ],
      "execution_count": null,
      "outputs": []
    },
    {
      "cell_type": "code",
      "metadata": {
        "kernel": "R",
        "id": "cFy8ZKiJy-lu"
      },
      "source": [
        "png(filename=\"Results\\\\Topic modelling\\\\Distribution Document Topic Proportions.png\", \n",
        "    type=\"cairo\",\n",
        "    units=\"in\", \n",
        "    width=10, \n",
        "    height=8, \n",
        "    pointsize=12, \n",
        "    res=300)\n",
        "plot(poliblogPrevFit, type=\"hist\")\n",
        "dev.off()"
      ],
      "execution_count": null,
      "outputs": []
    },
    {
      "cell_type": "code",
      "metadata": {
        "kernel": "R",
        "id": "CAz1z0uHy-lv"
      },
      "source": [
        "topic_correlation <- topicCorr(poliblogPrevFit, method = c(\"simple\", \"huge\"), cutoff = 0.01,\n",
        "                               verbose = TRUE)\n",
        "\n",
        "plot(topic_correlation, topics = NULL, vlabels = NULL, layout = NULL,\n",
        "     vertex.color = \"green\", vertex.label.cex = 0.75,\n",
        "     vertex.label.color = \"black\")"
      ],
      "execution_count": null,
      "outputs": []
    },
    {
      "cell_type": "code",
      "metadata": {
        "id": "3G6HCvIZ0DJ1"
      },
      "source": [
        ""
      ],
      "execution_count": null,
      "outputs": []
    }
  ]
}