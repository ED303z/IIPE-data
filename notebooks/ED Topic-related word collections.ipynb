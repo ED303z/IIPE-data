{
 "cells": [
  {
   "cell_type": "markdown",
   "metadata": {},
   "source": [
    "# Collections of topic-related words"
   ]
  },
  {
   "cell_type": "code",
   "execution_count": 2,
   "metadata": {},
   "outputs": [
    {
     "data": {
      "text/plain": [
       "['chess',\n",
       " 'drama',\n",
       " 'choral',\n",
       " 'choral singing',\n",
       " 'music',\n",
       " 'quizzes',\n",
       " 'concerts',\n",
       " 'games',\n",
       " 'field  trips',\n",
       " 'poetry',\n",
       " 'rhymes',\n",
       " 'song',\n",
       " 'relaxation',\n",
       " 'creativity',\n",
       " 'self-expression',\n",
       " 'school  band',\n",
       " 'playing musical instruments',\n",
       " 'Irish  cultural  events',\n",
       " 'Irish club',\n",
       " 'Irish dancing',\n",
       " 'wellbeing committee',\n",
       " 'reading challenges',\n",
       " 'mathletics',\n",
       " 'mathematics for fun',\n",
       " 'welcome meetings for new parents',\n",
       " 'cultural outings']"
      ]
     },
     "execution_count": 2,
     "metadata": {},
     "output_type": "execute_result"
    }
   ],
   "source": [
    "non_sports_activities_collection=['chess', 'drama', 'choral', 'choral singing', 'music', 'quizzes', 'concerts', 'games', 'field  trips', 'poetry','rhymes', 'song', 'relaxation','creativity', 'self-expression','school  band','playing musical instruments','Irish  cultural  events','Irish club', 'Irish dancing', 'wellbeing committee','reading challenges', 'mathletics', 'mathematics for fun', 'welcome meetings for new parents','cultural outings']\n",
    "non_sports_activities_collection"
   ]
  },
  {
   "cell_type": "code",
   "execution_count": 15,
   "metadata": {},
   "outputs": [
    {
     "data": {
      "text/plain": [
       "[' fun and shared enjoyment',\n",
       " 'very inclusive',\n",
       " 'varied, rich, fun and meaningful activities',\n",
       " 'particular strength',\n",
       " 'fun opportunities',\n",
       " 'derive benefit',\n",
       " 'fun and supportive environment',\n",
       " 'celebrated',\n",
       " 'excellent',\n",
       " 'particularly  positive  experience',\n",
       " 'achievements',\n",
       " 'applauded',\n",
       " 'recognised',\n",
       " 'enthusiastically',\n",
       " 'satisfactorily',\n",
       " 'successfully',\n",
       " 'engagement',\n",
       " 'encouraging',\n",
       " 'interest',\n",
       " 'co-operate',\n",
       " 'vehicle to encourage']"
      ]
     },
     "execution_count": 15,
     "metadata": {},
     "output_type": "execute_result"
    }
   ],
   "source": [
    "positive_collection=[' fun and shared enjoyment','very inclusive','varied, rich, fun and meaningful activities','particular strength','fun opportunities','derive benefit','fun and supportive environment','celebrated','excellent','particularly  positive  experience','achievements','applauded','recognised','enthusiastically','satisfactorily','successfully','engagement','encouraging','interest','co-operate','vehicle to encourage',]\n",
    "positive_collection"
   ]
  },
  {
   "cell_type": "code",
   "execution_count": null,
   "metadata": {},
   "outputs": [],
   "source": [
    "negative_collection=[]"
   ]
  },
  {
   "cell_type": "code",
   "execution_count": 7,
   "metadata": {},
   "outputs": [
    {
     "data": {
      "text/plain": [
       "['social skills',\n",
       " 'language skills',\n",
       " 'communication skills',\n",
       " 'creativity',\n",
       " 'positive attitude',\n",
       " 'inclusive attitude']"
      ]
     },
     "execution_count": 7,
     "metadata": {},
     "output_type": "execute_result"
    }
   ],
   "source": [
    "skills_collection=['social skills', 'language skills', 'communication skills', 'creativity','positive attitude', 'inclusive attitude']\n",
    "skills_collection"
   ]
  },
  {
   "cell_type": "code",
   "execution_count": 8,
   "metadata": {},
   "outputs": [
    {
     "data": {
      "text/plain": [
       "['Initiatives', 'contribute', 'co-operate']"
      ]
     },
     "execution_count": 8,
     "metadata": {},
     "output_type": "execute_result"
    }
   ],
   "source": [
    "initiatives_collection=['Initiatives','contribute','co-operate']\n",
    "initiatives_collection"
   ]
  },
  {
   "cell_type": "code",
   "execution_count": 17,
   "metadata": {},
   "outputs": [
    {
     "data": {
      "text/plain": [
       "['sports',\n",
       " 'competitions',\n",
       " 'match',\n",
       " 'sport',\n",
       " 'swimming',\n",
       " 'football',\n",
       " 'ball',\n",
       " 'basketball',\n",
       " 'rugby',\n",
       " 'gym',\n",
       " 'soccer',\n",
       " 'athletics',\n",
       " 'gymnastics',\n",
       " 'tennis',\n",
       " 'coaches',\n",
       " 'hockey',\n",
       " 'handball',\n",
       " 'player',\n",
       " 'cycling',\n",
       " 'aquatics',\n",
       " 'cricket',\n",
       " 'equestrian',\n",
       " 'league',\n",
       " 'badminton',\n",
       " 'table tennis',\n",
       " 'yoga',\n",
       " 'hurling',\n",
       " 'aquatics',\n",
       " 'Gaelic games',\n",
       " 'Gaelic football',\n",
       " 'tag-rugby',\n",
       " 'playground games',\n",
       " 'PE',\n",
       " 'PE curriculum']"
      ]
     },
     "execution_count": 17,
     "metadata": {},
     "output_type": "execute_result"
    }
   ],
   "source": [
    "sports_collection=[\n",
    " 'sports',\n",
    " 'competitions',\n",
    " 'match',\n",
    " 'sport',\n",
    " 'swimming',\n",
    " 'football',\n",
    " 'ball',\n",
    " 'basketball',\n",
    " 'rugby',\n",
    " 'gym',\n",
    " 'soccer',\n",
    " 'athletics',\n",
    " 'gymnastics',\n",
    " 'tennis',\n",
    " 'coaches',\n",
    " 'hockey',\n",
    " 'handball',\n",
    " 'player',\n",
    " 'cycling',\n",
    " 'aquatics',\n",
    " 'cricket',\n",
    " 'equestrian',\n",
    " 'league',\n",
    " 'badminton',\n",
    " 'table tennis',\n",
    " 'yoga',\n",
    " 'hurling',\n",
    " 'aquatics',\n",
    " 'Gaelic games',\n",
    " 'Gaelic football',\n",
    " 'tag-rugby','playground games','PE','PE curriculum']\n",
    "sports_collection"
   ]
  },
  {
   "cell_type": "code",
   "execution_count": 10,
   "metadata": {},
   "outputs": [
    {
     "data": {
      "text/plain": [
       "['role-play',\n",
       " 'pair work',\n",
       " 'active  and  discovery  learning  approaches',\n",
       " 'collaborative  learning  activities',\n",
       " 'use of ICT',\n",
       " 'improvisation,  mime,  circle  activities  and  games  in  lessons']"
      ]
     },
     "execution_count": 10,
     "metadata": {},
     "output_type": "execute_result"
    }
   ],
   "source": [
    "teaching_collection=['role-play','pair work','active  and  discovery  learning  approaches','collaborative  learning  activities','use of ICT','improvisation,  mime,  circle  activities  and  games  in  lessons']\n",
    "teaching_collection"
   ]
  },
  {
   "cell_type": "code",
   "execution_count": 14,
   "metadata": {},
   "outputs": [
    {
     "data": {
      "text/plain": [
       "['learning of Irish',\n",
       " 'all-Irish school',\n",
       " 'oral Irish',\n",
       " 'Irish books',\n",
       " 'Irish reading',\n",
       " 'oral skills in Irish',\n",
       " 'Irish lessons',\n",
       " 'teaching of Irish',\n",
       " 'learning in Irish',\n",
       " 'competence in Irish',\n",
       " 'ability in Irish',\n",
       " 'communicative competencies in Irish',\n",
       " 'reading materials in Irish',\n",
       " 'rich Irish']"
      ]
     },
     "execution_count": 14,
     "metadata": {},
     "output_type": "execute_result"
    }
   ],
   "source": [
    "Irish_collection=['learning of Irish', 'all-Irish school', 'oral Irish', 'Irish books','Irish reading','oral skills in Irish','Irish lessons', 'teaching of Irish','learning in Irish', 'competence in Irish', 'ability in Irish','communicative competencies in Irish', 'reading materials in Irish', 'rich Irish']\n",
    "Irish_collection"
   ]
  },
  {
   "cell_type": "code",
   "execution_count": 16,
   "metadata": {},
   "outputs": [
    {
     "data": {
      "text/plain": [
       "['use computers in lessons',\n",
       " 'computer-based learning environments',\n",
       " 'ICT lessons',\n",
       " 'computer room',\n",
       " 'use  of computers during lessons',\n",
       " 'computer-assisted learning',\n",
       " 'shared  computer  drive',\n",
       " 'computer resources to  present  lessons',\n",
       " 'use computers',\n",
       " 'laptop computer games',\n",
       " 'Computer technology has been provided in all classrooms',\n",
       " 'high usage of computers',\n",
       " 'computer-assisted learning',\n",
       " 'computer facilitie',\n",
       " 'computer hardware',\n",
       " 'computer resources',\n",
       " 'work with computers',\n",
       " 'use of ICT',\n",
       " 'interactive whiteboard',\n",
       " 'computerised  white-boards',\n",
       " 'interactive  white boards',\n",
       " 'information  and communication  technology']"
      ]
     },
     "execution_count": 16,
     "metadata": {},
     "output_type": "execute_result"
    }
   ],
   "source": [
    "ICT_collection=['use computers in lessons','computer-based learning environments','ICT lessons','computer room','use  of computers during lessons','computer-assisted learning','shared  computer  drive','computer resources to  present  lessons','use computers','laptop computer games','Computer technology has been provided in all classrooms',\n",
    "'high usage of computers','computer-assisted learning','computer facilitie','computer hardware','computer resources','work with computers','use of ICT','interactive whiteboard','computerised  white-boards','interactive  white boards','information  and communication  technology']\n",
    "ICT_collection"
   ]
  },
  {
   "cell_type": "code",
   "execution_count": 18,
   "metadata": {},
   "outputs": [
    {
     "data": {
      "text/plain": [
       "['computer',\n",
       " 'computers',\n",
       " 'internet',\n",
       " 'calculators',\n",
       " 'computing',\n",
       " 'laptop',\n",
       " 'software',\n",
       " 'video',\n",
       " 'machines',\n",
       " 'desktop',\n",
       " 'hardware',\n",
       " 'electronic',\n",
       " 'keyboard',\n",
       " 'calculation',\n",
       " 'tablet',\n",
       " 'calculator',\n",
       " 'digital',\n",
       " 'screen',\n",
       " 'computational',\n",
       " 'computation']"
      ]
     },
     "execution_count": 18,
     "metadata": {},
     "output_type": "execute_result"
    }
   ],
   "source": [
    "computer_collection = ['computer',\n",
    " 'computers',\n",
    " 'internet',\n",
    " 'calculators',\n",
    " 'computing',\n",
    " 'laptop',\n",
    " 'software',\n",
    " 'video',\n",
    " 'machines',\n",
    " 'desktop',\n",
    " 'hardware',\n",
    " 'electronic',\n",
    " 'keyboard',\n",
    " 'calculation',\n",
    " 'tablet',\n",
    " 'calculator',\n",
    " 'digital',\n",
    " 'screen',\n",
    " 'computational',\n",
    " 'computation']\n",
    "computer_collection"
   ]
  },
  {
   "cell_type": "code",
   "execution_count": null,
   "metadata": {},
   "outputs": [],
   "source": []
  }
 ],
 "metadata": {
  "kernelspec": {
   "display_name": "Python 3",
   "language": "python",
   "name": "python3"
  },
  "language_info": {
   "codemirror_mode": {
    "name": "ipython",
    "version": 3
   },
   "file_extension": ".py",
   "mimetype": "text/x-python",
   "name": "python",
   "nbconvert_exporter": "python",
   "pygments_lexer": "ipython3",
   "version": "3.7.6"
  }
 },
 "nbformat": 4,
 "nbformat_minor": 4
}
